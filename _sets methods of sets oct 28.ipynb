{
 "cells": [
  {
   "cell_type": "markdown",
   "id": "19da029e",
   "metadata": {},
   "source": [
    "# Documentation of sets ,methodsof sets & dictonaries"
   ]
  },
  {
   "cell_type": "markdown",
   "id": "40986e47",
   "metadata": {},
   "source": [
    " # sets"
   ]
  },
  {
   "cell_type": "markdown",
   "id": "76e58326",
   "metadata": {},
   "source": [
    "Sets are used to store multiple items in a single variable.\n",
    "\n",
    "Set is one of 4 built-in data types in Python used to store collections of data, the other 3 are List, Tuple, and Dictionary, all with different qualities and usage."
   ]
  },
  {
   "cell_type": "markdown",
   "id": "47099316",
   "metadata": {},
   "source": [
    " # how to create an empty set"
   ]
  },
  {
   "cell_type": "code",
   "execution_count": 3,
   "id": "826c3e9b",
   "metadata": {},
   "outputs": [
    {
     "name": "stdout",
     "output_type": "stream",
     "text": [
      "set()\n",
      "0\n",
      "<class 'set'>\n",
      "0x1b54b0d52a0\n"
     ]
    }
   ],
   "source": [
    "x = set()\n",
    "print(x,len(x),type(x),hex(id(x)), sep = '\\n')"
   ]
  },
  {
   "cell_type": "code",
   "execution_count": 4,
   "id": "5d8ad870",
   "metadata": {},
   "outputs": [
    {
     "name": "stdout",
     "output_type": "stream",
     "text": [
      "{1, 6}\n"
     ]
    }
   ],
   "source": [
    "x = {1,1,1,1,6,6,6,6,}\n",
    "print(x)"
   ]
  },
  {
   "cell_type": "markdown",
   "id": "42bc0fe2",
   "metadata": {},
   "source": [
    "# methods of sets"
   ]
  },
  {
   "cell_type": "code",
   "execution_count": 5,
   "id": "af9a1ce5",
   "metadata": {},
   "outputs": [
    {
     "data": {
      "text/plain": [
       "['__and__',\n",
       " '__class__',\n",
       " '__class_getitem__',\n",
       " '__contains__',\n",
       " '__delattr__',\n",
       " '__dir__',\n",
       " '__doc__',\n",
       " '__eq__',\n",
       " '__format__',\n",
       " '__ge__',\n",
       " '__getattribute__',\n",
       " '__getstate__',\n",
       " '__gt__',\n",
       " '__hash__',\n",
       " '__iand__',\n",
       " '__init__',\n",
       " '__init_subclass__',\n",
       " '__ior__',\n",
       " '__isub__',\n",
       " '__iter__',\n",
       " '__ixor__',\n",
       " '__le__',\n",
       " '__len__',\n",
       " '__lt__',\n",
       " '__ne__',\n",
       " '__new__',\n",
       " '__or__',\n",
       " '__rand__',\n",
       " '__reduce__',\n",
       " '__reduce_ex__',\n",
       " '__repr__',\n",
       " '__ror__',\n",
       " '__rsub__',\n",
       " '__rxor__',\n",
       " '__setattr__',\n",
       " '__sizeof__',\n",
       " '__str__',\n",
       " '__sub__',\n",
       " '__subclasshook__',\n",
       " '__xor__',\n",
       " 'add',\n",
       " 'clear',\n",
       " 'copy',\n",
       " 'difference',\n",
       " 'difference_update',\n",
       " 'discard',\n",
       " 'intersection',\n",
       " 'intersection_update',\n",
       " 'isdisjoint',\n",
       " 'issubset',\n",
       " 'issuperset',\n",
       " 'pop',\n",
       " 'remove',\n",
       " 'symmetric_difference',\n",
       " 'symmetric_difference_update',\n",
       " 'union',\n",
       " 'update']"
      ]
     },
     "execution_count": 5,
     "metadata": {},
     "output_type": "execute_result"
    }
   ],
   "source": [
    "dir(set)"
   ]
  },
  {
   "cell_type": "code",
   "execution_count": 6,
   "id": "e9fdd507",
   "metadata": {},
   "outputs": [
    {
     "data": {
      "text/plain": [
       "{1, 2, 3, 4, 5}"
      ]
     },
     "execution_count": 6,
     "metadata": {},
     "output_type": "execute_result"
    }
   ],
   "source": [
    "x = {1,2,3,4,5}\n",
    "x"
   ]
  },
  {
   "cell_type": "markdown",
   "id": "bafdee02",
   "metadata": {},
   "source": [
    "# add()\n",
    "by using this we can add a specific value to the set"
   ]
  },
  {
   "cell_type": "code",
   "execution_count": 7,
   "id": "f5af45ac",
   "metadata": {},
   "outputs": [
    {
     "data": {
      "text/plain": [
       "{1, 2, 3, 4, 5, 6}"
      ]
     },
     "execution_count": 7,
     "metadata": {},
     "output_type": "execute_result"
    }
   ],
   "source": [
    "x.add(6)\n",
    "x"
   ]
  },
  {
   "cell_type": "markdown",
   "id": "c0fc5f43",
   "metadata": {},
   "source": [
    "# update()\n",
    "it will update the set and gives the updated set"
   ]
  },
  {
   "cell_type": "code",
   "execution_count": 8,
   "id": "bdbe8c58",
   "metadata": {},
   "outputs": [
    {
     "data": {
      "text/plain": [
       "{1, 2, 3, 4, 5, 6, 7, 8}"
      ]
     },
     "execution_count": 8,
     "metadata": {},
     "output_type": "execute_result"
    }
   ],
   "source": [
    "x.update((6,7,8))\n",
    "x"
   ]
  },
  {
   "cell_type": "markdown",
   "id": "a948528d",
   "metadata": {},
   "source": [
    "# remove()\n",
    "it is used to remove a specific character in a set"
   ]
  },
  {
   "cell_type": "code",
   "execution_count": 9,
   "id": "4e8f3018",
   "metadata": {},
   "outputs": [
    {
     "data": {
      "text/plain": [
       "{1, 2, 3, 5}"
      ]
     },
     "execution_count": 9,
     "metadata": {},
     "output_type": "execute_result"
    }
   ],
   "source": [
    "set = {1,2,3,4,5}\n",
    "set.remove(4)\n",
    "set"
   ]
  },
  {
   "cell_type": "markdown",
   "id": "88b4e7a8",
   "metadata": {},
   "source": [
    "# discard()\n",
    "discard also used to remove a character in a set like remove(). but here if we use this method on  a particular element in a set.if the element is there  then it will be removed. if the element is not present in given set then the output will be the same as input and no error is shown "
   ]
  },
  {
   "cell_type": "code",
   "execution_count": 11,
   "id": "ce9a66b6",
   "metadata": {},
   "outputs": [
    {
     "data": {
      "text/plain": [
       "{1, 2, 3, 4}"
      ]
     },
     "execution_count": 11,
     "metadata": {},
     "output_type": "execute_result"
    }
   ],
   "source": [
    "set = {1,2,3,4,5}\n",
    "set.discard(5)\n",
    "set"
   ]
  },
  {
   "cell_type": "code",
   "execution_count": 19,
   "id": "a6a8586d",
   "metadata": {},
   "outputs": [
    {
     "data": {
      "text/plain": [
       "{1, 2, 3, 4, 5}"
      ]
     },
     "execution_count": 19,
     "metadata": {},
     "output_type": "execute_result"
    }
   ],
   "source": [
    "set = {1,2,3,4,5}\n",
    "set.discard(10)\n",
    "set"
   ]
  },
  {
   "cell_type": "markdown",
   "id": "597b2370",
   "metadata": {},
   "source": [
    "# pop()\n",
    "method is not a valid operation on sets because sets are unordered collections of unique elements, and there is no concept of indexing or order in a set"
   ]
  },
  {
   "cell_type": "code",
   "execution_count": 20,
   "id": "d7194ddd",
   "metadata": {},
   "outputs": [
    {
     "data": {
      "text/plain": [
       "(1, {2, 3, 4, 5, 6, 7, 8})"
      ]
     },
     "execution_count": 20,
     "metadata": {},
     "output_type": "execute_result"
    }
   ],
   "source": [
    "a = x.pop()\n",
    "a,x"
   ]
  },
  {
   "cell_type": "markdown",
   "id": "d3138e6c",
   "metadata": {},
   "source": [
    "# clear()\n",
    "method is used with sets to remove all the elements from the set, effectively making it an empty set.\n",
    "This method is used to clear the content of the set without deleting the set itself."
   ]
  },
  {
   "cell_type": "code",
   "execution_count": 22,
   "id": "1a818fa9",
   "metadata": {},
   "outputs": [
    {
     "name": "stdout",
     "output_type": "stream",
     "text": [
      "set()\n"
     ]
    }
   ],
   "source": [
    "set.clear()\n",
    "print(set)"
   ]
  },
  {
   "cell_type": "code",
   "execution_count": 23,
   "id": "4524ad24",
   "metadata": {},
   "outputs": [
    {
     "data": {
      "text/plain": [
       "set()"
      ]
     },
     "execution_count": 23,
     "metadata": {},
     "output_type": "execute_result"
    }
   ],
   "source": [
    "x.clear()\n",
    "x"
   ]
  },
  {
   "cell_type": "markdown",
   "id": "bf5783a1",
   "metadata": {},
   "source": [
    "# isdisjoint()"
   ]
  },
  {
   "cell_type": "code",
   "execution_count": 30,
   "id": "abf97e01",
   "metadata": {},
   "outputs": [
    {
     "data": {
      "text/plain": [
       "False"
      ]
     },
     "execution_count": 30,
     "metadata": {},
     "output_type": "execute_result"
    }
   ],
   "source": [
    "a.isdisjoint(b)"
   ]
  },
  {
   "cell_type": "markdown",
   "id": "767d8efa",
   "metadata": {},
   "source": [
    "# intersection()\n",
    "is used to return a new set that contains the elements that are common to two or more sets.\n",
    "The intersection of sets is a new set that contains only the elements that are present in all of the sets involved."
   ]
  },
  {
   "cell_type": "code",
   "execution_count": 33,
   "id": "627cb96d",
   "metadata": {},
   "outputs": [
    {
     "name": "stdout",
     "output_type": "stream",
     "text": [
      "{4}\n"
     ]
    }
   ],
   "source": [
    "set1 = {1, 2, 3, 4}\n",
    "set2 = {3, 4, 5, 6}\n",
    "set3 = {4, 6, 7, 8}\n",
    "\n",
    "result_set = set1.intersection(set2, set3)\n",
    "\n",
    "print(result_set)"
   ]
  },
  {
   "cell_type": "code",
   "execution_count": 34,
   "id": "699d185b",
   "metadata": {},
   "outputs": [
    {
     "name": "stdout",
     "output_type": "stream",
     "text": [
      "{4}\n"
     ]
    }
   ],
   "source": [
    "set1 = {1, 2, 3, 4}\n",
    "set2 = {3, 4, 5, 6}\n",
    "set3 = {4, 6, 7, 8}\n",
    "\n",
    "result_set = set3.intersection(set1, set2)              # how we change the set !,set2, set3, also same result\n",
    "\n",
    "print(result_set)"
   ]
  },
  {
   "cell_type": "markdown",
   "id": "510449d4",
   "metadata": {},
   "source": [
    "# union()\n",
    "is used to return a new set that contains all the unique elements from two or more sets."
   ]
  },
  {
   "cell_type": "code",
   "execution_count": 35,
   "id": "e8156d38",
   "metadata": {},
   "outputs": [
    {
     "name": "stdout",
     "output_type": "stream",
     "text": [
      "{1, 2, 3, 4, 5, 6, 7}\n"
     ]
    }
   ],
   "source": [
    "set1 = {1, 2, 3}\n",
    "set2 = {3, 4, 5}\n",
    "set3 = {5, 6, 7}\n",
    "\n",
    "result_set = set1.union(set2, set3)\n",
    "\n",
    "print(result_set)"
   ]
  },
  {
   "cell_type": "markdown",
   "id": "9d99f6e9",
   "metadata": {},
   "source": [
    "# difference()\n",
    "this method can be used to find the set difference between two sets.\n",
    "It returns a new set containing the elements that are in the first set but not in the second set."
   ]
  },
  {
   "cell_type": "code",
   "execution_count": 36,
   "id": "75ae2aa7",
   "metadata": {},
   "outputs": [
    {
     "name": "stdout",
     "output_type": "stream",
     "text": [
      "{1, 2}\n"
     ]
    }
   ],
   "source": [
    "set1 = {1, 2, 3, 4}\n",
    "set2 = {3, 4, 5, 6}\n",
    "\n",
    "result_set = set1.difference(set2)\n",
    "\n",
    "print(result_set)"
   ]
  },
  {
   "cell_type": "markdown",
   "id": "52aa3499",
   "metadata": {},
   "source": [
    "# symmetric difference\n",
    "that returns a new set containing elements that are unique to each of the input sets."
   ]
  },
  {
   "cell_type": "code",
   "execution_count": 37,
   "id": "d090a59c",
   "metadata": {},
   "outputs": [
    {
     "name": "stdout",
     "output_type": "stream",
     "text": [
      "{1, 2, 5, 6}\n"
     ]
    }
   ],
   "source": [
    "set1 = {1, 2, 3, 4}\n",
    "set2 = {3, 4, 5, 6}\n",
    "\n",
    "result_set = set1.symmetric_difference(set2)\n",
    "\n",
    "print(result_set) "
   ]
  },
  {
   "cell_type": "markdown",
   "id": "a9f03e7e",
   "metadata": {},
   "source": [
    "# symmetric difference update()\n",
    "that is used to update a set by removing elements that are present in both the set on which the method\n",
    "and adding elements that are present in the other set but not in the original set."
   ]
  },
  {
   "cell_type": "code",
   "execution_count": 38,
   "id": "25db91f9",
   "metadata": {},
   "outputs": [
    {
     "name": "stdout",
     "output_type": "stream",
     "text": [
      "{1, 2, 5, 6}\n"
     ]
    }
   ],
   "source": [
    "y1 = {1, 2, 3, 4}\n",
    "y2 = {3, 4, 5, 6}\n",
    "\n",
    "y1.symmetric_difference_update(y2)\n",
    "\n",
    "print(y1) "
   ]
  },
  {
   "cell_type": "code",
   "execution_count": null,
   "id": "9df0b42a",
   "metadata": {},
   "outputs": [],
   "source": []
  },
  {
   "cell_type": "code",
   "execution_count": null,
   "id": "566ce957",
   "metadata": {},
   "outputs": [],
   "source": []
  }
 ],
 "metadata": {
  "kernelspec": {
   "display_name": "Python 3 (ipykernel)",
   "language": "python",
   "name": "python3"
  },
  "language_info": {
   "codemirror_mode": {
    "name": "ipython",
    "version": 3
   },
   "file_extension": ".py",
   "mimetype": "text/x-python",
   "name": "python",
   "nbconvert_exporter": "python",
   "pygments_lexer": "ipython3",
   "version": "3.11.5"
  }
 },
 "nbformat": 4,
 "nbformat_minor": 5
}
